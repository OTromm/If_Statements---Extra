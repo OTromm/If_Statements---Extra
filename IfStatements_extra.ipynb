{
 "metadata": {
  "language_info": {
   "codemirror_mode": {
    "name": "ipython",
    "version": 3
   },
   "file_extension": ".py",
   "mimetype": "text/x-python",
   "name": "python",
   "nbconvert_exporter": "python",
   "pygments_lexer": "ipython3",
   "version": "3.9.1-final"
  },
  "orig_nbformat": 2,
  "kernelspec": {
   "name": "python391jvsc74a57bd089aee6942dff7a18974bb50e1d06d5f53d62a755afa5f3e07738ada7c8d88558",
   "display_name": "Python 3.9.1 64-bit"
  },
  "metadata": {
   "interpreter": {
    "hash": "89aee6942dff7a18974bb50e1d06d5f53d62a755afa5f3e07738ada7c8d88558"
   }
  }
 },
 "nbformat": 4,
 "nbformat_minor": 2,
 "cells": [
  {
   "source": [
    "# Extra oefenen - If Statements\n",
    "\n",
    "Maak gebruik van de uitleg in de andere Notebooks en de filmpjes. <a href=\"https://youtu.be/VAbYbdOScxA\">Dit</a> filmpje legt de opdrachten van de vorige notebook uit."
   ],
   "cell_type": "markdown",
   "metadata": {}
  },
  {
   "source": [
    "### Opdracht 1\n",
    "Maak een algoritme dat kijkt of een nummer even is **en** positief."
   ],
   "cell_type": "markdown",
   "metadata": {}
  },
  {
   "cell_type": "code",
   "execution_count": null,
   "metadata": {},
   "outputs": [],
   "source": [
    "x = \n",
    "\n",
    "if():\n",
    "    print(\"Dit nummer is even en positief\")\n",
    "else:\n",
    "    print(\"Dit nummer is niet even of negatief\")"
   ]
  },
  {
   "source": [
    "### Opdracht 2\n",
    "Maak een algoritme dat kijkt of **2** nummers **allebei** positief zijn."
   ],
   "cell_type": "markdown",
   "metadata": {}
  },
  {
   "cell_type": "code",
   "execution_count": null,
   "metadata": {},
   "outputs": [],
   "source": [
    "\n",
    "\n"
   ]
  },
  {
   "source": [
    "### Opdracht 3\n",
    "Maak een algoritme dat kijkt welk van de 2 nummers groter is."
   ],
   "cell_type": "markdown",
   "metadata": {}
  },
  {
   "cell_type": "code",
   "execution_count": null,
   "metadata": {},
   "outputs": [],
   "source": [
    "num1 = \n",
    "num2 = \n",
    "\n"
   ]
  },
  {
   "source": [
    "### Opdracht 4\n",
    "Maak een algoritme die verteld wanneer een nummer deelbaar is door 7, 10 of geen van beide."
   ],
   "cell_type": "markdown",
   "metadata": {}
  },
  {
   "cell_type": "code",
   "execution_count": null,
   "metadata": {},
   "outputs": [],
   "source": [
    "num = \n",
    "\n",
    "if():\n",
    "    print(\"Nummer is deelbaar door 7\")\n",
    "elif():\n",
    "    print(\"Nummer is deelbaar door 10\")\n",
    "else:\n",
    "    print(\"Nummer is niet deelbaar door 7 of 10\")"
   ]
  },
  {
   "source": [
    "### Opdracht 5\n",
    "Maak het volgende algoritme:\n",
    "\n",
    "<img src=\"https://i.imgur.com/VGOrHYr.png\">"
   ],
   "cell_type": "markdown",
   "metadata": {}
  },
  {
   "cell_type": "code",
   "execution_count": null,
   "metadata": {},
   "outputs": [],
   "source": [
    "\n",
    "\n",
    "\n",
    "\n"
   ]
  }
 ]
}